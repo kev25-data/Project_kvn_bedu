{
 "nbformat": 4,
 "nbformat_minor": 2,
 "metadata": {
  "language_info": {
   "name": "python",
   "codemirror_mode": {
    "name": "ipython",
    "version": 3
   },
   "version": "3.8.2-final"
  },
  "orig_nbformat": 2,
  "file_extension": ".py",
  "mimetype": "text/x-python",
  "name": "python",
  "npconvert_exporter": "python",
  "pygments_lexer": "ipython3",
  "version": 3,
  "kernelspec": {
   "name": "other-env",
   "display_name": "bedu"
  }
 },
 "cells": [
  {
   "cell_type": "code",
   "execution_count": 1,
   "metadata": {},
   "outputs": [
    {
     "output_type": "stream",
     "name": "stdout",
     "text": "Prueba para Git\n"
    }
   ],
   "source": [
    "print(\"Prueba para Git\")"
   ]
  },
  {
   "cell_type": "code",
   "execution_count": 1,
   "metadata": {},
   "outputs": [],
   "source": [
    "from IPython.display import HTML"
   ]
  },
  {
   "cell_type": "code",
   "execution_count": 2,
   "metadata": {},
   "outputs": [
    {
     "output_type": "execute_result",
     "data": {
      "text/plain": "<IPython.core.display.HTML object>",
      "text/html": "<img src=\"https://media-exp1.licdn.com/dms/image/C4E1BAQEjMLyhny0RdA/company-background_10000/0?e=2159024400&v=beta&t=jw3fRbuqIRdsVfoKbxyzZ1d7Ph7DY77grJskQkUCNP0\" width=\"800\" height=\"240\" align=\"right\"/>"
     },
     "metadata": {},
     "execution_count": 2
    }
   ],
   "source": [
    "html1 = '<img src=\"https://media-exp1.licdn.com/dms/image/C4E1BAQEjMLyhny0RdA/company-background_10000/0?e=2159024400&v=beta&t=jw3fRbuqIRdsVfoKbxyzZ1d7Ph7DY77grJskQkUCNP0\" width=\"800\" height=\"240\" align=\"right\"/>'\n",
    "HTML(html1)"
   ]
  },
  {
   "cell_type": "code",
   "execution_count": 1,
   "metadata": {},
   "outputs": [
    {
     "output_type": "execute_result",
     "data": {
      "text/plain": "2"
     },
     "metadata": {},
     "execution_count": 1
    }
   ],
   "source": [
    "1 + 1"
   ]
  },
  {
   "cell_type": "code",
   "execution_count": null,
   "metadata": {},
   "outputs": [],
   "source": []
  }
 ]
}